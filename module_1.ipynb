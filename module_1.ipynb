{
  "nbformat": 4,
  "nbformat_minor": 0,
  "metadata": {
    "colab": {
      "name": "module 1.ipynb",
      "provenance": [],
      "authorship_tag": "ABX9TyPAOE6Yu30E5j536KIYKI84",
      "include_colab_link": true
    },
    "kernelspec": {
      "name": "python3",
      "display_name": "Python 3"
    },
    "language_info": {
      "name": "python"
    }
  },
  "cells": [
    {
      "cell_type": "markdown",
      "metadata": {
        "id": "view-in-github",
        "colab_type": "text"
      },
      "source": [
        "<a href=\"https://colab.research.google.com/github/suraj050903/pyhton_new/blob/module_1/module_1.ipynb\" target=\"_parent\"><img src=\"https://colab.research.google.com/assets/colab-badge.svg\" alt=\"Open In Colab\"/></a>"
      ]
    },
    {
      "cell_type": "markdown",
      "source": [
        "# write a python program to find power of number with recursion and without recursion(input n=2 , p=3)"
      ],
      "metadata": {
        "id": "3QddoHuJmT82"
      }
    },
    {
      "cell_type": "code",
      "execution_count": null,
      "metadata": {
        "colab": {
          "base_uri": "https://localhost:8080/"
        },
        "id": "LiU_uaGTlM-s",
        "outputId": "39ec0f03-591b-43f5-8d8c-a899a577647f"
      },
      "outputs": [
        {
          "output_type": "stream",
          "name": "stdout",
          "text": [
            "Enter base number: 7\n",
            "Enter power: 3\n",
            "343\n"
          ]
        }
      ],
      "source": [
        "def power(a,b):\n",
        "  f=1\n",
        "  if b>=1:\n",
        "    f=a*power(a,b-1)\n",
        "  return f\n",
        "\n",
        "a=int(input(\"Enter base number: \"))\n",
        "b=int(input(\"Enter power: \"))\n",
        "print(power(a,b))\n"
      ]
    },
    {
      "cell_type": "markdown",
      "source": [
        "#write a program to sort tuple by total digits (input: list=[(3,4,6,723),(1,2),(134,234,34)]) output:[(1,2)(3,4,6,723)(34,134,234)]"
      ],
      "metadata": {
        "id": "bRZj6ruYmTMB"
      }
    },
    {
      "cell_type": "code",
      "source": [
        "list=[(3,4,6,723),(1,2),(134,234,34)]\n",
        "for i in range(0,len(list)):\n",
        "    list[i]=sorted(list[i])\n",
        "print(sorted(list))\n"
      ],
      "metadata": {
        "colab": {
          "base_uri": "https://localhost:8080/"
        },
        "id": "gO0uB52Xmnbw",
        "outputId": "c16b9f3e-8980-48ec-dd53-54b8fb900fca"
      },
      "execution_count": null,
      "outputs": [
        {
          "output_type": "stream",
          "name": "stdout",
          "text": [
            "[[1, 2], [3, 4, 6, 723], [34, 134, 234]]\n"
          ]
        }
      ]
    },
    {
      "cell_type": "code",
      "source": [
        "a=int(input(\"enetr the marks for sub 1 =\"))\n",
        "b=int(input(\"enetr the marks for sub 2 =\"))\n",
        "c=int(input(\"enetr the marks for sub 3 =\"))\n",
        "d=int(input(\"enetr the marks for sub 4 =\"))\n",
        "e=int(input(\"enetr the marks for sub 5 =\"))\n",
        "avg=(a+b+c+d+e)/5\n",
        "if avg>=90:\n",
        "  print(\"O\")\n",
        "if avg>=89 and avg>=80:\n",
        "  print(\"A+\")\n",
        "if avg>=79 and avg>=70:\n",
        "  print(\"A\")\n",
        "if avg<=69:\n",
        "  print(\"fail\")"
      ],
      "metadata": {
        "colab": {
          "base_uri": "https://localhost:8080/"
        },
        "id": "xtb8MFXirKnC",
        "outputId": "12b056eb-2729-49ca-e4f2-8b3b40d6188b"
      },
      "execution_count": null,
      "outputs": [
        {
          "output_type": "stream",
          "name": "stdout",
          "text": [
            "enetr the marks for sub 1 =80\n",
            "enetr the marks for sub 2 =80\n",
            "enetr the marks for sub 3 =80\n",
            "enetr the marks for sub 4 =80\n",
            "enetr the marks for sub 5 =80\n",
            "A\n"
          ]
        }
      ]
    },
    {
      "cell_type": "code",
      "source": [
        "a=int(input(\"enetr 1st the number =\"))\n",
        "b=int(input(\"enetr 2nd the number =\"))\n",
        "c=int(input(\"enetr 3rd the number =\"))\n",
        "if a<b<c:\n",
        "  print(\"1\")\n",
        "else:\n",
        "  (\"enter correct sequence\")"
      ],
      "metadata": {
        "colab": {
          "base_uri": "https://localhost:8080/"
        },
        "id": "qasbXtq4uVcu",
        "outputId": "c8d2591d-baa8-4e15-f438-acc67653543b"
      },
      "execution_count": null,
      "outputs": [
        {
          "output_type": "stream",
          "name": "stdout",
          "text": [
            "enetr 1st the number =2\n",
            "enetr 2nd the number =4\n",
            "enetr 3rd the number =5\n",
            "1\n"
          ]
        }
      ]
    },
    {
      "cell_type": "code",
      "source": [
        "a=int(input(\"enetr 1st the number =\"))\n",
        "b=0\n",
        "for i in range(1,a):\n",
        "   if a%i==0:\n",
        "         b=b+i\n",
        "if b==a:\n",
        "       print(\"perfect number\")\n",
        "else:\n",
        "       print(\"not a perfect number\")"
      ],
      "metadata": {
        "colab": {
          "base_uri": "https://localhost:8080/"
        },
        "id": "5lEDwYyQxOIe",
        "outputId": "30ac545b-d3d3-439b-9089-bbd01a57e09b"
      },
      "execution_count": null,
      "outputs": [
        {
          "output_type": "stream",
          "name": "stdout",
          "text": [
            "enetr 1st the number =28\n",
            "perfect number\n"
          ]
        }
      ]
    },
    {
      "cell_type": "code",
      "source": [
        ""
      ],
      "metadata": {
        "id": "elu_X3RO2LQ-"
      },
      "execution_count": null,
      "outputs": []
    },
    {
      "cell_type": "markdown",
      "source": [
        ""
      ],
      "metadata": {
        "id": "u-lqYHzBmSfb"
      }
    }
  ]
}