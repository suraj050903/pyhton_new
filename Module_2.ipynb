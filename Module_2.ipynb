{
  "nbformat": 4,
  "nbformat_minor": 0,
  "metadata": {
    "colab": {
      "name": "Module-2.ipynb",
      "provenance": [],
      "authorship_tag": "ABX9TyMiaBCSNW0SPOFxwRAOYVVC",
      "include_colab_link": true
    },
    "kernelspec": {
      "name": "python3",
      "display_name": "Python 3"
    },
    "language_info": {
      "name": "python"
    }
  },
  "cells": [
    {
      "cell_type": "markdown",
      "metadata": {
        "id": "view-in-github",
        "colab_type": "text"
      },
      "source": [
        "<a href=\"https://colab.research.google.com/github/suraj050903/pyhton_new/blob/module_2/Module_2.ipynb\" target=\"_parent\"><img src=\"https://colab.research.google.com/assets/colab-badge.svg\" alt=\"Open In Colab\"/></a>"
      ]
    },
    {
      "cell_type": "markdown",
      "source": [
        "**Sem-2 module 2**"
      ],
      "metadata": {
        "id": "ot46EmDpqUW4"
      }
    },
    {
      "cell_type": "markdown",
      "source": [
        "# Python program To calculate nCr"
      ],
      "metadata": {
        "id": "W-x3zkHfsUBD"
      }
    },
    {
      "cell_type": "code",
      "source": [
        "def nCr(n, r):\n",
        "    return (fact(n) / (fact(r)\n",
        "                       * fact(n - r)))\n",
        "def fact(n):\n",
        "    res = 1\n",
        "\n",
        "    for i in range(2, n + 1):\n",
        "        res = res * i\n",
        "\n",
        "    return res\n",
        "n = int(input())\n",
        "r = int(input())\n",
        "print(int(nCr(n, r)))"
      ],
      "metadata": {
        "id": "wWqho940qgfw"
      },
      "execution_count": null,
      "outputs": []
    },
    {
      "cell_type": "markdown",
      "source": [
        "#x Recursive function to compute GCD of 2 numbers"
      ],
      "metadata": {
        "id": "2ZUGyNxysYKh"
      }
    },
    {
      "cell_type": "code",
      "source": [
        "def gcd(a,b):\n",
        "    if(b==0):\n",
        "        return a\n",
        "    else:\n",
        "        return gcd(b,a%b)\n",
        "    \n",
        "a=int(input(\"Enter first number:\"))\n",
        "b=int(input(\"Enter second number:\"))\n",
        "GCD=gcd(a,b)\n",
        "print(\"GCD is: \"+)\n",
        "print(GCD)"
      ],
      "metadata": {
        "id": "81ZaZrK7sYWJ"
      },
      "execution_count": null,
      "outputs": []
    },
    {
      "cell_type": "markdown",
      "source": [
        "#Program to print a specified list after removing the 0th, 4th and 5th elements.\n",
        "#Sample List : ['Red', 'Green', 'White', 'Black', 'Pink', 'Yellow']"
      ],
      "metadata": {
        "id": "R8TLCguis-Fo"
      }
    },
    {
      "cell_type": "code",
      "source": [
        "a=['Red', 'Green', 'White', 'Black', 'Pink', 'Yellow']\n",
        "del a[5]\n",
        "del a[4]\n",
        "del a[0]\n",
        "print(a)"
      ],
      "metadata": {
        "id": "Jaa9Sd0As-Oq"
      },
      "execution_count": null,
      "outputs": []
    },
    {
      "cell_type": "markdown",
      "source": [
        "# Recursive function to find product of two numbers"
      ],
      "metadata": {
        "id": "O5g4nyB9xHum"
      }
    },
    {
      "cell_type": "code",
      "source": [
        "def product(a,b):\n",
        "    if(a<b):\n",
        "        return product(b,a)\n",
        "    elif(b!=0):\n",
        "        return(a+product(a,b-1))\n",
        "    else:\n",
        "        return 0\n",
        "a=int(input(\"Enter first number: \"))\n",
        "b=int(input(\"Enter second number: \"))\n",
        "print(\"Product is: \",product(a,b))\n"
      ],
      "metadata": {
        "id": "64i_FTD3xH33"
      },
      "execution_count": null,
      "outputs": []
    },
    {
      "cell_type": "markdown",
      "source": [
        "# Recursive function to generate Fibonacci series\n",
        "\n"
      ],
      "metadata": {
        "id": "TpMI4AF4xUQ3"
      }
    },
    {
      "cell_type": "code",
      "source": [
        "def recur_fibo(n):\n",
        "   if n <= 1:\n",
        "       return n\n",
        "   else:\n",
        "       return(recur_fibo(n-1) + recur_fibo(n-2))\n",
        "\n",
        "nterms = int(input(\"Enter how many terms of fibonnacci series you want: \"))\n",
        "\n",
        "# check if the number of terms is valid\n",
        "if nterms <= 0:\n",
        "   print(\"Plese enter a positive integer\")\n",
        "else:\n",
        "   print(\"Fibonacci sequence:\")\n",
        "   for i in range(0,nterms):\n",
        "       print(\" \" ,recur_fibo(i) , end=\"\")"
      ],
      "metadata": {
        "id": "Y1iUkhxQxUXW"
      },
      "execution_count": null,
      "outputs": []
    },
    {
      "cell_type": "markdown",
      "source": [
        "#Program to get the difference between the two lists"
      ],
      "metadata": {
        "id": "8TSrSVlTyHpF"
      }
    },
    {
      "cell_type": "code",
      "source": [
        "list1 = [1, 3, 5, 7, 9]\n",
        "list2=[1, 2, 4, 6, 7, 8]\n",
        "diff_list1_list2 = list(set(list1) - set(list2))\n",
        "diff_list2_list1 = list(set(list2) - set(list1))\n",
        "total_diff = diff_list1_list2 + diff_list2_list1\n",
        "print(total_diff)"
      ],
      "metadata": {
        "id": "zTM4NS9JyH3l"
      },
      "execution_count": null,
      "outputs": []
    },
    {
      "cell_type": "markdown",
      "source": [
        "#Program to find the second smallest number and second largest number in a list"
      ],
      "metadata": {
        "id": "iuDV9tHS0cJH"
      }
    },
    {
      "cell_type": "code",
      "source": [
        "def find_len(list1):\n",
        "    length = len(list1)\n",
        "    list1.sort()\n",
        "    print(\"Largest element is:\", list1[length - 1])\n",
        "    print(\"Smallest element is:\", list1[0])\n",
        "    print(\"Second Largest element is:\", list1[length - 2])\n",
        "    print(\"Second Smallest element is:\", list1[1])\n",
        "a=int(input(\"Enter the no. of terms in list: \"))\n",
        "list1=[]\n",
        "for i in range (0,a):\n",
        "  t=input(\"Enter element: \")\n",
        "  list1.append(t)\n",
        "Largest = find_len(list1)\n"
      ],
      "metadata": {
        "id": "GVjNXJPY0cS0"
      },
      "execution_count": null,
      "outputs": []
    },
    {
      "cell_type": "markdown",
      "source": [
        "#Given a list of numbers of list, write a Python program to create a list of tuples having first element as the number and second element as the square of the number"
      ],
      "metadata": {
        "id": "hKWSFeMX1brV"
      }
    },
    {
      "cell_type": "code",
      "source": [
        "a=int(input(\"Enter the no. of terms in list: \"))\n",
        "list1=[]\n",
        "for i in range (0,a):\n",
        "  t=int(input(\"Enter element: \"))\n",
        "  list1.append(t)\n",
        "for i in range (0,a):\n",
        "  list1.append((list1[0],list1[0]**2))\n",
        "  del list1[0]\n",
        "print(list1)\n"
      ],
      "metadata": {
        "id": "0rRQkCLJ1b4W"
      },
      "execution_count": null,
      "outputs": []
    },
    {
      "cell_type": "markdown",
      "source": [
        "#Given list of tuples, remove all the tuples with length K"
      ],
      "metadata": {
        "id": "VHi8HF-V1jn1"
      }
    },
    {
      "cell_type": "code",
      "source": [
        "test_list = [(4, 5), (4, ), (8, 6, 7), (1, ), (3, 4, 6, 7)]\n",
        "print(\"The original list : \" + str(test_list))\n",
        "k = int(input(\"Enter the length of tuples you want to eliminate: \"))\n",
        "fin=[]\n",
        "for i in range (0,len(test_list)):\n",
        "  if len(test_list[i]) != k:\n",
        "    fin.append(test_list[i])\n",
        "    \n",
        "print(\"Filtered list : \" + str(fin))"
      ],
      "metadata": {
        "id": "A4T-0Qva1jwQ"
      },
      "execution_count": null,
      "outputs": []
    },
    {
      "cell_type": "markdown",
      "source": [
        "#Program to generate and print a dictionary that contains a number (between 1 and n) in the form (x, x*x)"
      ],
      "metadata": {
        "id": "Y33E0vlC1xrV"
      }
    },
    {
      "cell_type": "code",
      "source": [
        ""
      ],
      "metadata": {
        "id": "ICBpt6K41x1J"
      },
      "execution_count": null,
      "outputs": []
    },
    {
      "cell_type": "markdown",
      "source": [
        "#Program to remove a key from a dictionary"
      ],
      "metadata": {
        "id": "DQaBswlZ13Jt"
      }
    },
    {
      "cell_type": "code",
      "source": [
        "myDict = {'a':1,'b':2,'c':3,'d':4}\n",
        "print(myDict)\n",
        "if 'a' in myDict:\n",
        "    del myDict['a']\n",
        "print(myDict)"
      ],
      "metadata": {
        "id": "0GF1IJeJ13Pi"
      },
      "execution_count": null,
      "outputs": []
    },
    {
      "cell_type": "markdown",
      "source": [
        "#Program to get the maximum and minimum value in a dictionary"
      ],
      "metadata": {
        "id": "pVgT6ljZ18wG"
      }
    },
    {
      "cell_type": "code",
      "source": [
        "my_dict = {'x':500, 'y':5874, 'z': 560}\n",
        "key_max = max(my_dict.keys(), key=(lambda k: my_dict[k]))\n",
        "key_min = min(my_dict.keys(), key=(lambda k: my_dict[k]))\n",
        "print('Maximum Value: ',my_dict[key_max])\n",
        "print('Minimum Value: ',my_dict[key_min])"
      ],
      "metadata": {
        "id": "PsVqvdXD188Q"
      },
      "execution_count": null,
      "outputs": []
    },
    {
      "cell_type": "markdown",
      "source": [
        "#Program to perform operations on string using unicodes ,splitting of string,accessing elements of string using locations"
      ],
      "metadata": {
        "id": "Q8DUeA2e19a9"
      }
    },
    {
      "cell_type": "code",
      "source": [
        ""
      ],
      "metadata": {
        "id": "SvI_R7eU19it"
      },
      "execution_count": null,
      "outputs": []
    },
    {
      "cell_type": "markdown",
      "source": [
        "#Program for Counting occurrence of a certain element in a string, getting indexes that have matching elements"
      ],
      "metadata": {
        "id": "ZpO5MeMe19sd"
      }
    },
    {
      "cell_type": "code",
      "source": [
        "def count(s, c) :\n",
        "    res = 0\n",
        "    for i in range(len(s)) :\n",
        "        if (s[i] == c):\n",
        "            res = res + 1\n",
        "    return res\n",
        "\n",
        "str=input(\"Enter the string: \")\n",
        "c = input(\"Enter the alphabet you want to find the reccurence: \")\n",
        "print(count(str, c))"
      ],
      "metadata": {
        "id": "WiCvFm5o19zv"
      },
      "execution_count": null,
      "outputs": []
    },
    {
      "cell_type": "markdown",
      "source": [
        "# Program for replacing one substring by another"
      ],
      "metadata": {
        "id": "6f9o8Cv32Nxx"
      }
    },
    {
      "cell_type": "code",
      "source": [
        ""
      ],
      "metadata": {
        "id": "Gyu3hmiC2OAC"
      },
      "execution_count": null,
      "outputs": []
    },
    {
      "cell_type": "markdown",
      "source": [
        "#Program to Acronym generator for any user input"
      ],
      "metadata": {
        "id": "qQRmOHre2hWO"
      }
    },
    {
      "cell_type": "code",
      "source": [
        "a=input(\"Enter the name you want acronym for: \")\n",
        "b=a.split()\n",
        "ac=\"\"\n",
        "for i in range (0,len(b)):\n",
        "  ac=ac+b[i][0]\n",
        "print(ac)"
      ],
      "metadata": {
        "id": "znGxTM2G2hg1"
      },
      "execution_count": null,
      "outputs": []
    },
    {
      "cell_type": "markdown",
      "source": [
        "#Python function that accepts a string and calculates the number of uppercase letters and lowercase letters"
      ],
      "metadata": {
        "id": "7UV2EKbx2wEo"
      }
    },
    {
      "cell_type": "code",
      "source": [
        "def string_test(s):\n",
        "    d={\"UPPER_CASE\":0, \"LOWER_CASE\":0}\n",
        "    for c in s:\n",
        "        if c.isupper():\n",
        "           d[\"UPPER_CASE\"]+=1\n",
        "        elif c.islower():\n",
        "           d[\"LOWER_CASE\"]+=1\n",
        "        else:\n",
        "           pass\n",
        "    print (\"Original String : \", s)\n",
        "    print (\"No. of Upper case characters : \", d[\"UPPER_CASE\"])\n",
        "    print (\"No. of Lower case Characters : \", d[\"LOWER_CASE\"])\n",
        "\n",
        "string_test('The quick Brown Fox')\n"
      ],
      "metadata": {
        "id": "CqH7GMSU2wOm"
      },
      "execution_count": null,
      "outputs": []
    },
    {
      "cell_type": "markdown",
      "source": [
        "#Program to count the number of strings where the string length is 2 or more and the first and last character are same from a given list of strings"
      ],
      "metadata": {
        "id": "sm-9rKx-22gV"
      }
    },
    {
      "cell_type": "code",
      "source": [
        ""
      ],
      "metadata": {
        "id": "crnRyObo22pC"
      },
      "execution_count": null,
      "outputs": []
    }
  ]
}