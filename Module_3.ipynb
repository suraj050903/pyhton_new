{
  "cells": [
    {
      "cell_type": "markdown",
      "metadata": {
        "id": "view-in-github",
        "colab_type": "text"
      },
      "source": [
        "<a href=\"https://colab.research.google.com/github/suraj050903/pyhton_new/blob/module_3/Module_3.ipynb\" target=\"_parent\"><img src=\"https://colab.research.google.com/assets/colab-badge.svg\" alt=\"Open In Colab\"/></a>"
      ]
    },
    {
      "cell_type": "code",
      "execution_count": null,
      "metadata": {
        "colab": {
          "base_uri": "https://localhost:8080/"
        },
        "id": "nZLc4Z_cRFtc",
        "outputId": "ad9c4b30-b76d-4135-a429-ff96814826c1"
      },
      "outputs": [
        {
          "output_type": "stream",
          "name": "stdout",
          "text": [
            "Mounted at /drive\n"
          ]
        }
      ],
      "source": [
        "from google.colab import drive\n",
        "drive.mount('/drive')"
      ]
    },
    {
      "cell_type": "code",
      "execution_count": null,
      "metadata": {
        "id": "V8KW-l0u2CvK"
      },
      "outputs": [],
      "source": [
        "import pandas as pd\n",
        "import csv\n",
        "import json"
      ]
    },
    {
      "cell_type": "markdown",
      "metadata": {
        "id": "LNOp9_ucUO7G"
      },
      "source": [
        "Reading a File"
      ]
    },
    {
      "cell_type": "code",
      "execution_count": null,
      "metadata": {
        "id": "nK7UiFaUUQ13"
      },
      "outputs": [],
      "source": [
        "fil = open(r'/drive/My Drive/Colab Notebooks/Module-3 files/file.txt', 'r')\n",
        "print(fil.read())\n",
        "\n",
        "fil.close()"
      ]
    },
    {
      "cell_type": "markdown",
      "metadata": {
        "id": "homGp3AaXI8k"
      },
      "source": [
        "Reading n Lines"
      ]
    },
    {
      "cell_type": "code",
      "execution_count": null,
      "metadata": {
        "id": "Q1WK15grXKSL"
      },
      "outputs": [],
      "source": [
        "fil = open(r'/drive/My Drive/Colab Notebooks/Module-3 files/file.txt', 'r')\n",
        "n = int(input('Number of Lines: '))\n",
        "lines = fil.readlines()\n",
        "for i in range(0, n): print(lines[i])\n",
        "fil.close()"
      ]
    },
    {
      "cell_type": "markdown",
      "metadata": {
        "id": "CsIITSPg59Nh"
      },
      "source": [
        "Append Text"
      ]
    },
    {
      "cell_type": "code",
      "execution_count": null,
      "metadata": {
        "id": "GIdt9LH_5_lV"
      },
      "outputs": [],
      "source": [
        "fil = open(r'/drive/My Drive/Colab Notebooks/Module-3 files/file.txt', 'a')\n",
        "st = input('Text: ')\n",
        "fil.write(st)\n",
        "fil.close()\n",
        "fil = open(r'/drive/My Drive/Colab Notebooks/Module-3 files/file.txt', 'r')\n",
        "print(fil.read())\n",
        "fil.close()"
      ]
    },
    {
      "cell_type": "markdown",
      "metadata": {
        "id": "LeX5GV-agARZ"
      },
      "source": [
        "Even Odd Seperator"
      ]
    },
    {
      "cell_type": "code",
      "execution_count": null,
      "metadata": {
        "id": "JZpe1n2NgFmt"
      },
      "outputs": [],
      "source": [
        "num_file = open(r'/drive/My Drive/Colab Notebooks/Module-3 files/numbers.txt', 'r')\n",
        "numbers = num_file.readlines()\n",
        "even_file = open(r'/drive/My Drive/Colab Notebooks/Module-3 files/even.txt', 'a')\n",
        "odd_file = open(r'/drive/My Drive/Colab Notebooks/Module-3 files/odd.txt', 'a')\n",
        "for i in numbers:\n",
        "  num = int(i.strip())\n",
        "  if num % 2 == 0:\n",
        "    even_file.write(i)\n",
        "  else:\n",
        "    odd_file.write(i)\n",
        "num_file.close()\n",
        "even_file.close()\n",
        "odd_file.close()"
      ]
    },
    {
      "cell_type": "markdown",
      "metadata": {
        "id": "_cf1Ic8Ch-Jr"
      },
      "source": [
        "Word Character and Line Count"
      ]
    },
    {
      "cell_type": "code",
      "execution_count": null,
      "metadata": {
        "id": "oiJ33OvNiLVZ"
      },
      "outputs": [],
      "source": [
        "fil = open('/drive/My Drive/Colab Notebooks/Module-3 files/file.txt', 'r')\n",
        "content = fil.read()\n",
        "words = content.split(' ')\n",
        "fil.seek(0)\n",
        "lines = fil.readlines()\n",
        "char_count = 0\n",
        "word_count = len(words)\n",
        "line_count = len(lines)\n",
        "for i in content:\n",
        "  char_count += 1\n",
        "print('Character Count: ', char_count)\n",
        "print('Word Count: ', word_count)\n",
        "print('Line Count: ', line_count)\n",
        "fil.close()"
      ]
    },
    {
      "cell_type": "markdown",
      "metadata": {
        "id": "q0wE3Ktygl_3"
      },
      "source": [
        "List to a File"
      ]
    },
    {
      "cell_type": "code",
      "execution_count": null,
      "metadata": {
        "id": "WBzYafQqgvMd"
      },
      "outputs": [],
      "source": [
        "fil = open(r'/drive/My Drive/Colab Notebooks/Module-3 files/file2.txt', 'w')\n",
        "n = ['Hi there', 'My name is anonymous']\n",
        "fil.writelines(n)\n",
        "fil.close()"
      ]
    },
    {
      "cell_type": "markdown",
      "metadata": {
        "id": "Q6Nr6l-Korns"
      },
      "source": [
        "CSV Reading as Dataframe"
      ]
    },
    {
      "cell_type": "code",
      "execution_count": null,
      "metadata": {
        "id": "_STRghrhouJk"
      },
      "outputs": [],
      "source": [
        "df = pd.read_csv(r'/drive/My Drive/Colab Notebooks/Module-3 files/sample1.csv', encoding='unicode_escape')\n",
        "print(df)"
      ]
    },
    {
      "cell_type": "markdown",
      "metadata": {
        "id": "GiBTEabzu8Dg"
      },
      "source": [
        "Condition in Dataframes"
      ]
    },
    {
      "cell_type": "code",
      "execution_count": null,
      "metadata": {
        "id": "0m5rMz9uvCvO"
      },
      "outputs": [],
      "source": [
        "rslt_df = df[df[' \"Average\"']>1.0]\n",
        "print('Result Dataframe: \\n', rslt_df)"
      ]
    },
    {
      "cell_type": "markdown",
      "metadata": {
        "id": "p-R4zfCbzbG3"
      },
      "source": [
        "Average Salary by Occupation"
      ]
    },
    {
      "cell_type": "code",
      "execution_count": null,
      "metadata": {
        "id": "WT383vFHzgaB"
      },
      "outputs": [],
      "source": [
        "fil = pd.read_csv('/drive/My Drive/Colab Notebooks/Module-3 files/employees.csv', encoding='unicode_escape')\n",
        "occu_avg = fil.groupby(['DEPARTMENT_ID'])['SALARY'].mean()\n",
        "print(occu_avg)"
      ]
    },
    {
      "cell_type": "markdown",
      "metadata": {
        "id": "r3R5caHA2Rtt"
      },
      "source": [
        "Object to JSON"
      ]
    },
    {
      "cell_type": "code",
      "execution_count": null,
      "metadata": {
        "id": "IbrC1o122Tqc"
      },
      "outputs": [],
      "source": [
        "jsonArray = []\n",
        "csvfil = open(r'/drive/My Drive/Colab Notebooks/Module-3 files/sample1.csv', 'r', encoding='utf-8')\n",
        "csvreader = csv.DictReader(csvfil)\n",
        "for row in csvreader:\n",
        "  jsonArray.append(row)\n",
        "jsonfil = open(r'/drive/My Drive/Colab Notebooks/Module-3 files/jsonfile.json', 'w', encoding='utf-8')\n",
        "jsonString = json.dumps(jsonArray, indent=4)\n",
        "jsonfil.write(jsonString)\n",
        "csvfil.close()\n",
        "jsonfil.close()"
      ]
    },
    {
      "cell_type": "markdown",
      "metadata": {
        "id": "xs-NKBeC5w4g"
      },
      "source": [
        "Reading Columns"
      ]
    },
    {
      "cell_type": "code",
      "execution_count": null,
      "metadata": {
        "id": "AyrzEvGg5y9_"
      },
      "outputs": [],
      "source": [
        "df = pd.read_csv(r'/drive/My Drive/Colab Notebooks/Module-3 files/sample1.csv', encoding='unicode_escape')\n",
        "colfil = df.loc[2:5,['Month',' \"Average\"']]\n",
        "print(colfil)"
      ]
    }
  ],
  "metadata": {
    "colab": {
      "name": "Module-3.ipynb",
      "provenance": [],
      "include_colab_link": true
    },
    "kernelspec": {
      "display_name": "Python 3",
      "name": "python3"
    },
    "language_info": {
      "name": "python"
    }
  },
  "nbformat": 4,
  "nbformat_minor": 0
}